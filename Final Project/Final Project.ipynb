{
 "cells": [
  {
   "cell_type": "code",
   "execution_count": 1,
   "id": "50e1fcaf",
   "metadata": {},
   "outputs": [],
   "source": [
    "import pandas as pd\n",
    "import matplotlib.pyplot as plt\n",
    "import numpy as np\n",
    "import scipy.optimize as opt\n",
    "import math"
   ]
  },
  {
   "cell_type": "code",
   "execution_count": 2,
   "id": "e02ca375",
   "metadata": {},
   "outputs": [],
   "source": [
    "def Inclination(i):\n",
    "    return np.arccos(i)\n",
    "\n",
    "def W_mx_correction(i,W_mx):\n",
    "    return W_mx/np.sin(i)\n",
    "\n",
    "def abs_magnitude_calc(W_mx):\n",
    "    abs_mag = -21.39-8.81*(np.log10(W_mx)-2.5)\n",
    "    return abs_mag\n",
    "\n",
    "def apparent_correction(ratio,W_mx,I_0):\n",
    "    return I_0-((0.92+1.63*(np.log10(W_mx)-2.5))*np.log10(ratio))\n",
    "\n",
    "def Distance_Modulus(apparent, absolute):\n",
    "    dist = 10**((apparent-absolute+5)/5) #in parsecs\n",
    "    return dist / (10**6)"
   ]
  },
  {
   "cell_type": "code",
   "execution_count": 18,
   "id": "3d457d33",
   "metadata": {},
   "outputs": [
    {
     "data": {
      "text/html": [
       "<div>\n",
       "<style scoped>\n",
       "    .dataframe tbody tr th:only-of-type {\n",
       "        vertical-align: middle;\n",
       "    }\n",
       "\n",
       "    .dataframe tbody tr th {\n",
       "        vertical-align: top;\n",
       "    }\n",
       "\n",
       "    .dataframe thead th {\n",
       "        text-align: right;\n",
       "    }\n",
       "</style>\n",
       "<table border=\"1\" class=\"dataframe\">\n",
       "  <thead>\n",
       "    <tr style=\"text-align: right;\">\n",
       "      <th></th>\n",
       "      <th>Names</th>\n",
       "      <th>Apparent I Band Magnitude</th>\n",
       "      <th>Velocity Width</th>\n",
       "      <th>Radial Velocity</th>\n",
       "      <th>b/a</th>\n",
       "    </tr>\n",
       "  </thead>\n",
       "  <tbody>\n",
       "    <tr>\n",
       "      <th>0</th>\n",
       "      <td>4</td>\n",
       "      <td>15.02</td>\n",
       "      <td>154</td>\n",
       "      <td>4458</td>\n",
       "      <td>0.22</td>\n",
       "    </tr>\n",
       "    <tr>\n",
       "      <th>1</th>\n",
       "      <td>55</td>\n",
       "      <td>15.13</td>\n",
       "      <td>179</td>\n",
       "      <td>4779</td>\n",
       "      <td>0.30</td>\n",
       "    </tr>\n",
       "    <tr>\n",
       "      <th>2</th>\n",
       "      <td>68</td>\n",
       "      <td>14.09</td>\n",
       "      <td>206</td>\n",
       "      <td>7664</td>\n",
       "      <td>0.59</td>\n",
       "    </tr>\n",
       "    <tr>\n",
       "      <th>3</th>\n",
       "      <td>70</td>\n",
       "      <td>13.57</td>\n",
       "      <td>426</td>\n",
       "      <td>6800</td>\n",
       "      <td>0.14</td>\n",
       "    </tr>\n",
       "    <tr>\n",
       "      <th>4</th>\n",
       "      <td>76</td>\n",
       "      <td>12.71</td>\n",
       "      <td>409</td>\n",
       "      <td>6920</td>\n",
       "      <td>0.40</td>\n",
       "    </tr>\n",
       "    <tr>\n",
       "      <th>...</th>\n",
       "      <td>...</td>\n",
       "      <td>...</td>\n",
       "      <td>...</td>\n",
       "      <td>...</td>\n",
       "      <td>...</td>\n",
       "    </tr>\n",
       "    <tr>\n",
       "      <th>195</th>\n",
       "      <td>2767</td>\n",
       "      <td>12.84</td>\n",
       "      <td>251</td>\n",
       "      <td>4138</td>\n",
       "      <td>0.44</td>\n",
       "    </tr>\n",
       "    <tr>\n",
       "      <th>196</th>\n",
       "      <td>2769</td>\n",
       "      <td>14.09</td>\n",
       "      <td>332</td>\n",
       "      <td>9436</td>\n",
       "      <td>0.62</td>\n",
       "    </tr>\n",
       "    <tr>\n",
       "      <th>197</th>\n",
       "      <td>2782</td>\n",
       "      <td>14.34</td>\n",
       "      <td>173</td>\n",
       "      <td>5085</td>\n",
       "      <td>0.65</td>\n",
       "    </tr>\n",
       "    <tr>\n",
       "      <th>198</th>\n",
       "      <td>2799</td>\n",
       "      <td>13.14</td>\n",
       "      <td>152</td>\n",
       "      <td>6375</td>\n",
       "      <td>0.80</td>\n",
       "    </tr>\n",
       "    <tr>\n",
       "      <th>199</th>\n",
       "      <td>2805</td>\n",
       "      <td>13.81</td>\n",
       "      <td>131</td>\n",
       "      <td>1346</td>\n",
       "      <td>0.15</td>\n",
       "    </tr>\n",
       "  </tbody>\n",
       "</table>\n",
       "<p>200 rows × 5 columns</p>\n",
       "</div>"
      ],
      "text/plain": [
       "     Names  Apparent I Band Magnitude  Velocity Width  Radial Velocity   b/a\n",
       "0        4                      15.02             154             4458  0.22\n",
       "1       55                      15.13             179             4779  0.30\n",
       "2       68                      14.09             206             7664  0.59\n",
       "3       70                      13.57             426             6800  0.14\n",
       "4       76                      12.71             409             6920  0.40\n",
       "..     ...                        ...             ...              ...   ...\n",
       "195   2767                      12.84             251             4138  0.44\n",
       "196   2769                      14.09             332             9436  0.62\n",
       "197   2782                      14.34             173             5085  0.65\n",
       "198   2799                      13.14             152             6375  0.80\n",
       "199   2805                      13.81             131             1346  0.15\n",
       "\n",
       "[200 rows x 5 columns]"
      ]
     },
     "metadata": {},
     "output_type": "display_data"
    }
   ],
   "source": [
    "file = \"tully-fisher-galaxies.csv\"\n",
    "galaxies_df = pd.read_csv(file)\n",
    "galaxies_df.dropna()\n",
    "names = galaxies_df['Names']\n",
    "I_C = galaxies_df['Apparent I Band Magnitude']\n",
    "W_mx = galaxies_df['Velocity Width']\n",
    "v = galaxies_df['Radial Velocity']\n",
    "b_a = galaxies_df['b/a']"
   ]
  },
  {
   "cell_type": "code",
   "execution_count": 40,
   "id": "02741df9",
   "metadata": {},
   "outputs": [
    {
     "name": "stdout",
     "output_type": "stream",
     "text": [
      "141.57524818417934\n",
      "28\n"
     ]
    },
    {
     "ename": "KeyError",
     "evalue": "28",
     "output_type": "error",
     "traceback": [
      "\u001b[1;31m---------------------------------------------------------------------------\u001b[0m",
      "\u001b[1;31mKeyError\u001b[0m                                  Traceback (most recent call last)",
      "File \u001b[1;32m~\\anaconda3\\Lib\\site-packages\\pandas\\core\\indexes\\base.py:3653\u001b[0m, in \u001b[0;36mIndex.get_loc\u001b[1;34m(self, key)\u001b[0m\n\u001b[0;32m   3652\u001b[0m \u001b[38;5;28;01mtry\u001b[39;00m:\n\u001b[1;32m-> 3653\u001b[0m     \u001b[38;5;28;01mreturn\u001b[39;00m \u001b[38;5;28mself\u001b[39m\u001b[38;5;241m.\u001b[39m_engine\u001b[38;5;241m.\u001b[39mget_loc(casted_key)\n\u001b[0;32m   3654\u001b[0m \u001b[38;5;28;01mexcept\u001b[39;00m \u001b[38;5;167;01mKeyError\u001b[39;00m \u001b[38;5;28;01mas\u001b[39;00m err:\n",
      "File \u001b[1;32m~\\anaconda3\\Lib\\site-packages\\pandas\\_libs\\index.pyx:147\u001b[0m, in \u001b[0;36mpandas._libs.index.IndexEngine.get_loc\u001b[1;34m()\u001b[0m\n",
      "File \u001b[1;32m~\\anaconda3\\Lib\\site-packages\\pandas\\_libs\\index.pyx:176\u001b[0m, in \u001b[0;36mpandas._libs.index.IndexEngine.get_loc\u001b[1;34m()\u001b[0m\n",
      "File \u001b[1;32mpandas\\_libs\\hashtable_class_helper.pxi:2606\u001b[0m, in \u001b[0;36mpandas._libs.hashtable.Int64HashTable.get_item\u001b[1;34m()\u001b[0m\n",
      "File \u001b[1;32mpandas\\_libs\\hashtable_class_helper.pxi:2630\u001b[0m, in \u001b[0;36mpandas._libs.hashtable.Int64HashTable.get_item\u001b[1;34m()\u001b[0m\n",
      "\u001b[1;31mKeyError\u001b[0m: 28",
      "\nThe above exception was the direct cause of the following exception:\n",
      "\u001b[1;31mKeyError\u001b[0m                                  Traceback (most recent call last)",
      "Cell \u001b[1;32mIn[40], line 20\u001b[0m\n\u001b[0;32m     17\u001b[0m     distance \u001b[38;5;241m=\u001b[39m distance\u001b[38;5;241m.\u001b[39mdrop(labels \u001b[38;5;241m=\u001b[39m count,axis \u001b[38;5;241m=\u001b[39m \u001b[38;5;241m0\u001b[39m)\n\u001b[0;32m     18\u001b[0m     \u001b[38;5;66;03m#count -= 1\u001b[39;00m\n\u001b[0;32m     19\u001b[0m     \u001b[38;5;66;03m#Termination -=1\u001b[39;00m\n\u001b[1;32m---> 20\u001b[0m \u001b[38;5;28;01mif\u001b[39;00m  distance[count] \u001b[38;5;241m<\u001b[39m mean \u001b[38;5;241m-\u001b[39m (\u001b[38;5;241m2\u001b[39m\u001b[38;5;241m*\u001b[39mstd):\n\u001b[0;32m     21\u001b[0m     distance \u001b[38;5;241m=\u001b[39m distance\u001b[38;5;241m.\u001b[39mdrop(labels \u001b[38;5;241m=\u001b[39m \u001b[38;5;28mint\u001b[39m(count),axis \u001b[38;5;241m=\u001b[39m \u001b[38;5;241m0\u001b[39m)\n\u001b[0;32m     22\u001b[0m     \u001b[38;5;66;03m#count -= 1\u001b[39;00m\n\u001b[0;32m     23\u001b[0m     \u001b[38;5;66;03m#Termination -=1\u001b[39;00m\n",
      "File \u001b[1;32m~\\anaconda3\\Lib\\site-packages\\pandas\\core\\series.py:1007\u001b[0m, in \u001b[0;36mSeries.__getitem__\u001b[1;34m(self, key)\u001b[0m\n\u001b[0;32m   1004\u001b[0m     \u001b[38;5;28;01mreturn\u001b[39;00m \u001b[38;5;28mself\u001b[39m\u001b[38;5;241m.\u001b[39m_values[key]\n\u001b[0;32m   1006\u001b[0m \u001b[38;5;28;01melif\u001b[39;00m key_is_scalar:\n\u001b[1;32m-> 1007\u001b[0m     \u001b[38;5;28;01mreturn\u001b[39;00m \u001b[38;5;28mself\u001b[39m\u001b[38;5;241m.\u001b[39m_get_value(key)\n\u001b[0;32m   1009\u001b[0m \u001b[38;5;28;01mif\u001b[39;00m is_hashable(key):\n\u001b[0;32m   1010\u001b[0m     \u001b[38;5;66;03m# Otherwise index.get_value will raise InvalidIndexError\u001b[39;00m\n\u001b[0;32m   1011\u001b[0m     \u001b[38;5;28;01mtry\u001b[39;00m:\n\u001b[0;32m   1012\u001b[0m         \u001b[38;5;66;03m# For labels that don't resolve as scalars like tuples and frozensets\u001b[39;00m\n",
      "File \u001b[1;32m~\\anaconda3\\Lib\\site-packages\\pandas\\core\\series.py:1116\u001b[0m, in \u001b[0;36mSeries._get_value\u001b[1;34m(self, label, takeable)\u001b[0m\n\u001b[0;32m   1113\u001b[0m     \u001b[38;5;28;01mreturn\u001b[39;00m \u001b[38;5;28mself\u001b[39m\u001b[38;5;241m.\u001b[39m_values[label]\n\u001b[0;32m   1115\u001b[0m \u001b[38;5;66;03m# Similar to Index.get_value, but we do not fall back to positional\u001b[39;00m\n\u001b[1;32m-> 1116\u001b[0m loc \u001b[38;5;241m=\u001b[39m \u001b[38;5;28mself\u001b[39m\u001b[38;5;241m.\u001b[39mindex\u001b[38;5;241m.\u001b[39mget_loc(label)\n\u001b[0;32m   1118\u001b[0m \u001b[38;5;28;01mif\u001b[39;00m is_integer(loc):\n\u001b[0;32m   1119\u001b[0m     \u001b[38;5;28;01mreturn\u001b[39;00m \u001b[38;5;28mself\u001b[39m\u001b[38;5;241m.\u001b[39m_values[loc]\n",
      "File \u001b[1;32m~\\anaconda3\\Lib\\site-packages\\pandas\\core\\indexes\\base.py:3655\u001b[0m, in \u001b[0;36mIndex.get_loc\u001b[1;34m(self, key)\u001b[0m\n\u001b[0;32m   3653\u001b[0m     \u001b[38;5;28;01mreturn\u001b[39;00m \u001b[38;5;28mself\u001b[39m\u001b[38;5;241m.\u001b[39m_engine\u001b[38;5;241m.\u001b[39mget_loc(casted_key)\n\u001b[0;32m   3654\u001b[0m \u001b[38;5;28;01mexcept\u001b[39;00m \u001b[38;5;167;01mKeyError\u001b[39;00m \u001b[38;5;28;01mas\u001b[39;00m err:\n\u001b[1;32m-> 3655\u001b[0m     \u001b[38;5;28;01mraise\u001b[39;00m \u001b[38;5;167;01mKeyError\u001b[39;00m(key) \u001b[38;5;28;01mfrom\u001b[39;00m \u001b[38;5;21;01merr\u001b[39;00m\n\u001b[0;32m   3656\u001b[0m \u001b[38;5;28;01mexcept\u001b[39;00m \u001b[38;5;167;01mTypeError\u001b[39;00m:\n\u001b[0;32m   3657\u001b[0m     \u001b[38;5;66;03m# If we have a listlike key, _check_indexing_error will raise\u001b[39;00m\n\u001b[0;32m   3658\u001b[0m     \u001b[38;5;66;03m#  InvalidIndexError. Otherwise we fall through and re-raise\u001b[39;00m\n\u001b[0;32m   3659\u001b[0m     \u001b[38;5;66;03m#  the TypeError.\u001b[39;00m\n\u001b[0;32m   3660\u001b[0m     \u001b[38;5;28mself\u001b[39m\u001b[38;5;241m.\u001b[39m_check_indexing_error(key)\n",
      "\u001b[1;31mKeyError\u001b[0m: 28"
     ]
    }
   ],
   "source": [
    "angle = Inclination(b_a)\n",
    "W_mx_corrected = W_mx_correction(angle,W_mx)\n",
    "abs_mag = abs_magnitude_calc(W_mx_corrected)\n",
    "I_corrected = apparent_correction(b_a**-1,W_mx_corrected,I_C)\n",
    "distance = Distance_Modulus(I_corrected,abs_mag)\n",
    "\n",
    "mean = np.mean(distance)\n",
    "std = np.std(distance,ddof = 1)\n",
    "Termination = len(distance)\n",
    "count = 0\n",
    "distance_new = []\n",
    "while count < Termination:\n",
    "    if distance[count] > mean + (2*std):\n",
    "        print(distance[count])\n",
    "        print(count)\n",
    "        #distance.drop(labels = count, axis = 0,inplace=True)\n",
    "        distance = distance.drop(labels = count,axis = 0)\n",
    "        #count -= 1\n",
    "        #Termination -=1\n",
    "    if  distance[count] < mean - (2*std): #Try to incorporate this into top if statement\n",
    "        distance = distance.drop(labels = int(count),axis = 0)\n",
    "        #count -= 1\n",
    "        #Termination -=1\n",
    "    count += 1\n",
    "    \n",
    "#for i in range(len(distance)):\n",
    "    #if distance[i] > mean + (2*std) and distance[i] > mean - (2*std):\n",
    "        #distance_new.append(distance[i])\n",
    "    #print(distance_new)"
   ]
  },
  {
   "cell_type": "code",
   "execution_count": 14,
   "id": "1dfc932b",
   "metadata": {},
   "outputs": [
    {
     "data": {
      "image/png": "[encoded data removed]",
      "text/plain": [
       "<Figure size 2000x1500 with 1 Axes>"
      ]
     },
     "metadata": {},
     "output_type": "display_data"
    }
   ],
   "source": [
    "plt.figure(figsize = [20,15])\n",
    "plt.scatter(distance,v,s=5,c='blue')\n",
    "plt.show()"
   ]
  },
  {
   "cell_type": "code",
   "execution_count": 37,
   "id": "bc232040",
   "metadata": {},
   "outputs": [
    {
     "data": {
      "text/plain": [
       "0       49.439698\n",
       "1       70.313596\n",
       "2       78.802747\n",
       "3      107.959712\n",
       "4       97.935512\n",
       "          ...    \n",
       "195     49.224320\n",
       "196    187.116678\n",
       "197     73.924964\n",
       "198     52.664392\n",
       "199     21.096547\n",
       "Length: 200, dtype: float64"
      ]
     },
     "metadata": {},
     "output_type": "display_data"
    },
    {
     "data": {
      "text/plain": [
       "0       49.439698\n",
       "1       70.313596\n",
       "2       78.802747\n",
       "3      107.959712\n",
       "4       97.935512\n",
       "          ...    \n",
       "195     49.224320\n",
       "196    187.116678\n",
       "197     73.924964\n",
       "198     52.664392\n",
       "199     21.096547\n",
       "Length: 199, dtype: float64"
      ]
     },
     "metadata": {},
     "output_type": "display_data"
    },
    {
     "name": "stdout",
     "output_type": "stream",
     "text": [
      "141.57524818417934\n"
     ]
    }
   ],
   "source": [
    "#Test thing\n",
    "test = distance\n",
    "display(test)\n",
    "count = 28\n",
    "test = test.drop(labels = count,axis = 0)\n",
    "display(test)\n",
    "print(distance[28])"
   ]
  },
  {
   "cell_type": "code",
   "execution_count": null,
   "id": "1a9ba5e4",
   "metadata": {},
   "outputs": [],
   "source": []
  }
 ],
 "metadata": {
  "kernelspec": {
   "display_name": "Python 3 (ipykernel)",
   "language": "python",
   "name": "python3"
  },
  "language_info": {
   "codemirror_mode": {
    "name": "ipython",
    "version": 3
   },
   "file_extension": ".py",
   "mimetype": "text/x-python",
   "name": "python",
   "nbconvert_exporter": "python",
   "pygments_lexer": "ipython3",
   "version": "3.11.5"
  }
 },
 "nbformat": 4,
 "nbformat_minor": 5
}
